{
 "cells": [
  {
   "cell_type": "code",
   "execution_count": null,
   "metadata": {},
   "outputs": [],
   "source": [
    "# \n",
    "# Data Import & Prep\n",
    "#"
   ]
  },
  {
   "cell_type": "code",
   "execution_count": 1,
   "metadata": {},
   "outputs": [],
   "source": [
    "import pymongo\n",
    "import pandas as pd\n",
    "import seaborn as sns\n",
    "import matplotlib.pyplot as plt\n",
    "%matplotlib inline\n",
    "from sklearn.preprocessing import LabelEncoder\n",
    "import statsmodels.api as sm\n",
    "from scipy import stats\n",
    "#Lavendar color for powerpoint #D7B9C4, blue color #AFD7E6"
   ]
  },
  {
   "cell_type": "code",
   "execution_count": 2,
   "metadata": {},
   "outputs": [
    {
     "data": {
      "text/plain": [
       "['sold_clutches']"
      ]
     },
     "execution_count": 2,
     "metadata": {},
     "output_type": "execute_result"
    }
   ],
   "source": [
    "#Grab datafrom MongoDB and assign data to Pandas Dataframe\n",
    "client = pymongo.MongoClient('localhost',27017)\n",
    "db = client.poshmark_db\n",
    "db.list_collection_names()"
   ]
  },
  {
   "cell_type": "code",
   "execution_count": 3,
   "metadata": {},
   "outputs": [
    {
     "data": {
      "text/plain": [
       "50847"
      ]
     },
     "execution_count": 3,
     "metadata": {},
     "output_type": "execute_result"
    }
   ],
   "source": [
    "#Find all documents in sold_clutches collection and assign documents to a list\n",
    "coll = db.sold_clutches\n",
    "docs = coll.find()\n",
    "doclist = [listing for listing in docs]\n",
    "len(doclist)"
   ]
  },
  {
   "cell_type": "code",
   "execution_count": 4,
   "metadata": {},
   "outputs": [
    {
     "data": {
      "text/plain": [
       "Index(['_id', 'brand', 'colors', 'comment_count', 'condition',\n",
       "       'creator_handle', 'description', 'id', 'inventory_status_changed_dt',\n",
       "       'like_count', 'og_price', 'sell_price', 'seller_offer', 'share_count',\n",
       "       'title'],\n",
       "      dtype='object')"
      ]
     },
     "execution_count": 4,
     "metadata": {},
     "output_type": "execute_result"
    }
   ],
   "source": [
    "#Create pandas datafram from doclist & get column names for future reference\n",
    "df = pd.DataFrame(doclist)\n",
    "df.columns"
   ]
  },
  {
   "cell_type": "code",
   "execution_count": 5,
   "metadata": {},
   "outputs": [
    {
     "name": "stdout",
     "output_type": "stream",
     "text": [
      "<class 'pandas.core.frame.DataFrame'>\n",
      "Int64Index: 19311 entries, 1 to 50844\n",
      "Data columns (total 15 columns):\n",
      "_id                            19311 non-null object\n",
      "brand                          19311 non-null object\n",
      "colors                         19311 non-null object\n",
      "comment_count                  19311 non-null int64\n",
      "condition                      19311 non-null object\n",
      "creator_handle                 19311 non-null object\n",
      "description                    19311 non-null object\n",
      "id                             19311 non-null object\n",
      "inventory_status_changed_dt    12620 non-null object\n",
      "like_count                     19311 non-null int64\n",
      "og_price                       19311 non-null float64\n",
      "sell_price                     19311 non-null float64\n",
      "seller_offer                   12620 non-null object\n",
      "share_count                    19311 non-null int64\n",
      "title                          19311 non-null object\n",
      "dtypes: float64(2), int64(3), object(10)\n",
      "memory usage: 2.4+ MB\n"
     ]
    }
   ],
   "source": [
    "#Apply data filters\n",
    "#Create DF with examples that contain a condition that is not blank or == 'ret' \n",
    "# and original price between 25 and 5000 & sell price > 10 to remove outliers \n",
    "cond_df = df[df.condition != '']\n",
    "cond_df = cond_df[cond_df.condition != 'ret']\n",
    "cond_df = cond_df[cond_df.og_price >= 10]\n",
    "cond_df = cond_df[cond_df.og_price <= 7000]\n",
    "cond_df = cond_df[cond_df.sell_price >= 10]\n",
    "cond_df['brand'] = cond_df['brand'].str.strip()\n",
    "cond_df.info()"
   ]
  },
  {
   "cell_type": "code",
   "execution_count": 6,
   "metadata": {},
   "outputs": [
    {
     "data": {
      "text/plain": [
       "array(['betsey johnson', 'fossil', 'guess', 'gucci', 'chanel', 'coach',\n",
       "       'kate spade', 'rebecca minkoff', 'mossimo supply co.',\n",
       "       'sole society', 'louis vuitton', 'steve madden'], dtype=object)"
      ]
     },
     "execution_count": 6,
     "metadata": {},
     "output_type": "execute_result"
    }
   ],
   "source": [
    "#List of brands\n",
    "cond_df['brand'].unique()"
   ]
  },
  {
   "cell_type": "code",
   "execution_count": null,
   "metadata": {},
   "outputs": [],
   "source": [
    "#\n",
    "# Data Exploration\n",
    "#"
   ]
  },
  {
   "cell_type": "code",
   "execution_count": 7,
   "metadata": {},
   "outputs": [
    {
     "data": {
      "text/plain": [
       "Text(0,0.5,'Selling Price')"
      ]
     },
     "execution_count": 7,
     "metadata": {},
     "output_type": "execute_result"
    },
    {
     "data": {
      "image/png": "[encoded data removed]",
      "text/plain": [
       "<Figure size 432x288 with 1 Axes>"
      ]
     },
     "metadata": {
      "needs_background": "light"
     },
     "output_type": "display_data"
    }
   ],
   "source": [
    "#Check correlation with scatterplot\n",
    "plt.scatter(y=cond_df['sell_price'], x=cond_df['og_price'], color='#D7B9C4')\n",
    "plt.xlabel('Original Price')\n",
    "plt.ylabel('Selling Price')"
   ]
  },
  {
   "cell_type": "code",
   "execution_count": 8,
   "metadata": {},
   "outputs": [
    {
     "data": {
      "text/html": [
       "<div>\n",
       "<style scoped>\n",
       "    .dataframe tbody tr th:only-of-type {\n",
       "        vertical-align: middle;\n",
       "    }\n",
       "\n",
       "    .dataframe tbody tr th {\n",
       "        vertical-align: top;\n",
       "    }\n",
       "\n",
       "    .dataframe thead th {\n",
       "        text-align: right;\n",
       "    }\n",
       "</style>\n",
       "<table border=\"1\" class=\"dataframe\">\n",
       "  <thead>\n",
       "    <tr style=\"text-align: right;\">\n",
       "      <th></th>\n",
       "      <th>_id</th>\n",
       "      <th>brand</th>\n",
       "      <th>og_price</th>\n",
       "      <th>sell_price</th>\n",
       "      <th>condition</th>\n",
       "      <th>sell_percent</th>\n",
       "    </tr>\n",
       "  </thead>\n",
       "  <tbody>\n",
       "    <tr>\n",
       "      <th>1</th>\n",
       "      <td>606b3a366b53b4fd918bf62e</td>\n",
       "      <td>betsey johnson</td>\n",
       "      <td>1234.0</td>\n",
       "      <td>20.0</td>\n",
       "      <td>nwt</td>\n",
       "      <td>0.016207</td>\n",
       "    </tr>\n",
       "    <tr>\n",
       "      <th>27</th>\n",
       "      <td>606b3a366b53b4fd918bf648</td>\n",
       "      <td>betsey johnson</td>\n",
       "      <td>999.0</td>\n",
       "      <td>25.0</td>\n",
       "      <td>not_nwt</td>\n",
       "      <td>0.025025</td>\n",
       "    </tr>\n",
       "    <tr>\n",
       "      <th>85</th>\n",
       "      <td>606b3a366b53b4fd918bf682</td>\n",
       "      <td>betsey johnson</td>\n",
       "      <td>1234.0</td>\n",
       "      <td>13.0</td>\n",
       "      <td>nwt</td>\n",
       "      <td>0.010535</td>\n",
       "    </tr>\n",
       "    <tr>\n",
       "      <th>164</th>\n",
       "      <td>606b3a366b53b4fd918bf6d1</td>\n",
       "      <td>betsey johnson</td>\n",
       "      <td>999.0</td>\n",
       "      <td>10.0</td>\n",
       "      <td>not_nwt</td>\n",
       "      <td>0.010010</td>\n",
       "    </tr>\n",
       "    <tr>\n",
       "      <th>582</th>\n",
       "      <td>606b3a366b53b4fd918bf873</td>\n",
       "      <td>betsey johnson</td>\n",
       "      <td>777.0</td>\n",
       "      <td>18.0</td>\n",
       "      <td>not_nwt</td>\n",
       "      <td>0.023166</td>\n",
       "    </tr>\n",
       "    <tr>\n",
       "      <th>599</th>\n",
       "      <td>606b3a366b53b4fd918bf884</td>\n",
       "      <td>betsey johnson</td>\n",
       "      <td>135.0</td>\n",
       "      <td>12.0</td>\n",
       "      <td>not_nwt</td>\n",
       "      <td>0.088889</td>\n",
       "    </tr>\n",
       "    <tr>\n",
       "      <th>888</th>\n",
       "      <td>606b3a366b53b4fd918bf9a5</td>\n",
       "      <td>betsey johnson</td>\n",
       "      <td>777.0</td>\n",
       "      <td>21.0</td>\n",
       "      <td>nwt</td>\n",
       "      <td>0.027027</td>\n",
       "    </tr>\n",
       "    <tr>\n",
       "      <th>903</th>\n",
       "      <td>606b3a366b53b4fd918bf9b4</td>\n",
       "      <td>betsey johnson</td>\n",
       "      <td>250.0</td>\n",
       "      <td>15.0</td>\n",
       "      <td>not_nwt</td>\n",
       "      <td>0.060000</td>\n",
       "    </tr>\n",
       "    <tr>\n",
       "      <th>1065</th>\n",
       "      <td>606b3a366b53b4fd918bfa56</td>\n",
       "      <td>betsey johnson</td>\n",
       "      <td>2222.0</td>\n",
       "      <td>20.0</td>\n",
       "      <td>nwt</td>\n",
       "      <td>0.009001</td>\n",
       "    </tr>\n",
       "    <tr>\n",
       "      <th>1194</th>\n",
       "      <td>606b3a366b53b4fd918bfad7</td>\n",
       "      <td>betsey johnson</td>\n",
       "      <td>999.0</td>\n",
       "      <td>19.0</td>\n",
       "      <td>nwt</td>\n",
       "      <td>0.019019</td>\n",
       "    </tr>\n",
       "    <tr>\n",
       "      <th>1268</th>\n",
       "      <td>606b3a366b53b4fd918bfb21</td>\n",
       "      <td>betsey johnson</td>\n",
       "      <td>999.0</td>\n",
       "      <td>35.0</td>\n",
       "      <td>not_nwt</td>\n",
       "      <td>0.035035</td>\n",
       "    </tr>\n",
       "    <tr>\n",
       "      <th>1322</th>\n",
       "      <td>606b3a366b53b4fd918bfb57</td>\n",
       "      <td>betsey johnson</td>\n",
       "      <td>999.0</td>\n",
       "      <td>14.0</td>\n",
       "      <td>nwt</td>\n",
       "      <td>0.014014</td>\n",
       "    </tr>\n",
       "    <tr>\n",
       "      <th>1441</th>\n",
       "      <td>606b3a366b53b4fd918bfbce</td>\n",
       "      <td>betsey johnson</td>\n",
       "      <td>777.0</td>\n",
       "      <td>15.0</td>\n",
       "      <td>nwt</td>\n",
       "      <td>0.019305</td>\n",
       "    </tr>\n",
       "    <tr>\n",
       "      <th>1525</th>\n",
       "      <td>606b3a366b53b4fd918bfc22</td>\n",
       "      <td>betsey johnson</td>\n",
       "      <td>999.0</td>\n",
       "      <td>45.0</td>\n",
       "      <td>nwt</td>\n",
       "      <td>0.045045</td>\n",
       "    </tr>\n",
       "    <tr>\n",
       "      <th>1575</th>\n",
       "      <td>606b3a366b53b4fd918bfc54</td>\n",
       "      <td>betsey johnson</td>\n",
       "      <td>777.0</td>\n",
       "      <td>15.0</td>\n",
       "      <td>nwt</td>\n",
       "      <td>0.019305</td>\n",
       "    </tr>\n",
       "    <tr>\n",
       "      <th>2002</th>\n",
       "      <td>606b3a366b53b4fd918bfdff</td>\n",
       "      <td>betsey johnson</td>\n",
       "      <td>999.0</td>\n",
       "      <td>12.0</td>\n",
       "      <td>nwt</td>\n",
       "      <td>0.012012</td>\n",
       "    </tr>\n",
       "    <tr>\n",
       "      <th>2176</th>\n",
       "      <td>606b3a366b53b4fd918bfead</td>\n",
       "      <td>betsey johnson</td>\n",
       "      <td>150.0</td>\n",
       "      <td>13.0</td>\n",
       "      <td>not_nwt</td>\n",
       "      <td>0.086667</td>\n",
       "    </tr>\n",
       "    <tr>\n",
       "      <th>2265</th>\n",
       "      <td>606b3a366b53b4fd918bff06</td>\n",
       "      <td>betsey johnson</td>\n",
       "      <td>999.0</td>\n",
       "      <td>50.0</td>\n",
       "      <td>nwt</td>\n",
       "      <td>0.050050</td>\n",
       "    </tr>\n",
       "    <tr>\n",
       "      <th>2712</th>\n",
       "      <td>606b3a366b53b4fd918c00c5</td>\n",
       "      <td>betsey johnson</td>\n",
       "      <td>999.0</td>\n",
       "      <td>10.0</td>\n",
       "      <td>nwt</td>\n",
       "      <td>0.010010</td>\n",
       "    </tr>\n",
       "    <tr>\n",
       "      <th>2798</th>\n",
       "      <td>606b3a366b53b4fd918c011b</td>\n",
       "      <td>betsey johnson</td>\n",
       "      <td>777.0</td>\n",
       "      <td>20.0</td>\n",
       "      <td>nwt</td>\n",
       "      <td>0.025740</td>\n",
       "    </tr>\n",
       "    <tr>\n",
       "      <th>2847</th>\n",
       "      <td>606b3a366b53b4fd918c014c</td>\n",
       "      <td>betsey johnson</td>\n",
       "      <td>999.0</td>\n",
       "      <td>20.0</td>\n",
       "      <td>nwt</td>\n",
       "      <td>0.020020</td>\n",
       "    </tr>\n",
       "    <tr>\n",
       "      <th>2884</th>\n",
       "      <td>606b3a366b53b4fd918c0171</td>\n",
       "      <td>betsey johnson</td>\n",
       "      <td>110.0</td>\n",
       "      <td>10.0</td>\n",
       "      <td>not_nwt</td>\n",
       "      <td>0.090909</td>\n",
       "    </tr>\n",
       "    <tr>\n",
       "      <th>2942</th>\n",
       "      <td>606b3a366b53b4fd918c01ab</td>\n",
       "      <td>betsey johnson</td>\n",
       "      <td>999.0</td>\n",
       "      <td>10.0</td>\n",
       "      <td>nwt</td>\n",
       "      <td>0.010010</td>\n",
       "    </tr>\n",
       "    <tr>\n",
       "      <th>3075</th>\n",
       "      <td>606b3a366b53b4fd918c0230</td>\n",
       "      <td>betsey johnson</td>\n",
       "      <td>999.0</td>\n",
       "      <td>51.0</td>\n",
       "      <td>nwt</td>\n",
       "      <td>0.051051</td>\n",
       "    </tr>\n",
       "    <tr>\n",
       "      <th>3146</th>\n",
       "      <td>606b3a366b53b4fd918c0277</td>\n",
       "      <td>betsey johnson</td>\n",
       "      <td>777.0</td>\n",
       "      <td>15.0</td>\n",
       "      <td>not_nwt</td>\n",
       "      <td>0.019305</td>\n",
       "    </tr>\n",
       "    <tr>\n",
       "      <th>3476</th>\n",
       "      <td>606b3a366b53b4fd918c03c1</td>\n",
       "      <td>betsey johnson</td>\n",
       "      <td>999.0</td>\n",
       "      <td>15.0</td>\n",
       "      <td>not_nwt</td>\n",
       "      <td>0.015015</td>\n",
       "    </tr>\n",
       "    <tr>\n",
       "      <th>3509</th>\n",
       "      <td>606b3a366b53b4fd918c03e2</td>\n",
       "      <td>betsey johnson</td>\n",
       "      <td>444.0</td>\n",
       "      <td>27.0</td>\n",
       "      <td>nwt</td>\n",
       "      <td>0.060811</td>\n",
       "    </tr>\n",
       "    <tr>\n",
       "      <th>3627</th>\n",
       "      <td>606b3a366b53b4fd918c0458</td>\n",
       "      <td>betsey johnson</td>\n",
       "      <td>1234.0</td>\n",
       "      <td>10.0</td>\n",
       "      <td>not_nwt</td>\n",
       "      <td>0.008104</td>\n",
       "    </tr>\n",
       "    <tr>\n",
       "      <th>3760</th>\n",
       "      <td>606b3a366b53b4fd918c04dd</td>\n",
       "      <td>betsey johnson</td>\n",
       "      <td>1234.0</td>\n",
       "      <td>10.0</td>\n",
       "      <td>nwt</td>\n",
       "      <td>0.008104</td>\n",
       "    </tr>\n",
       "    <tr>\n",
       "      <th>3786</th>\n",
       "      <td>606b3a366b53b4fd918c04f7</td>\n",
       "      <td>betsey johnson</td>\n",
       "      <td>349.0</td>\n",
       "      <td>30.0</td>\n",
       "      <td>nwt</td>\n",
       "      <td>0.085960</td>\n",
       "    </tr>\n",
       "    <tr>\n",
       "      <th>...</th>\n",
       "      <td>...</td>\n",
       "      <td>...</td>\n",
       "      <td>...</td>\n",
       "      <td>...</td>\n",
       "      <td>...</td>\n",
       "      <td>...</td>\n",
       "    </tr>\n",
       "    <tr>\n",
       "      <th>45712</th>\n",
       "      <td>606b3a366b53b4fd918ca8bd</td>\n",
       "      <td>coach</td>\n",
       "      <td>198.0</td>\n",
       "      <td>12.0</td>\n",
       "      <td>not_nwt</td>\n",
       "      <td>0.060606</td>\n",
       "    </tr>\n",
       "    <tr>\n",
       "      <th>45745</th>\n",
       "      <td>606b3a366b53b4fd918ca8de</td>\n",
       "      <td>coach</td>\n",
       "      <td>299.0</td>\n",
       "      <td>17.0</td>\n",
       "      <td>not_nwt</td>\n",
       "      <td>0.056856</td>\n",
       "    </tr>\n",
       "    <tr>\n",
       "      <th>45907</th>\n",
       "      <td>606b3a366b53b4fd918ca980</td>\n",
       "      <td>coach</td>\n",
       "      <td>777.0</td>\n",
       "      <td>15.0</td>\n",
       "      <td>not_nwt</td>\n",
       "      <td>0.019305</td>\n",
       "    </tr>\n",
       "    <tr>\n",
       "      <th>45970</th>\n",
       "      <td>606b3a366b53b4fd918ca9bf</td>\n",
       "      <td>coach</td>\n",
       "      <td>199.0</td>\n",
       "      <td>18.0</td>\n",
       "      <td>not_nwt</td>\n",
       "      <td>0.090452</td>\n",
       "    </tr>\n",
       "    <tr>\n",
       "      <th>46014</th>\n",
       "      <td>606b3a366b53b4fd918ca9eb</td>\n",
       "      <td>coach</td>\n",
       "      <td>120.0</td>\n",
       "      <td>10.0</td>\n",
       "      <td>not_nwt</td>\n",
       "      <td>0.083333</td>\n",
       "    </tr>\n",
       "    <tr>\n",
       "      <th>46074</th>\n",
       "      <td>606b3a366b53b4fd918caa27</td>\n",
       "      <td>coach</td>\n",
       "      <td>165.0</td>\n",
       "      <td>11.0</td>\n",
       "      <td>not_nwt</td>\n",
       "      <td>0.066667</td>\n",
       "    </tr>\n",
       "    <tr>\n",
       "      <th>46148</th>\n",
       "      <td>606b3a366b53b4fd918caa71</td>\n",
       "      <td>coach</td>\n",
       "      <td>125.0</td>\n",
       "      <td>10.0</td>\n",
       "      <td>not_nwt</td>\n",
       "      <td>0.080000</td>\n",
       "    </tr>\n",
       "    <tr>\n",
       "      <th>46245</th>\n",
       "      <td>606b3a366b53b4fd918caad2</td>\n",
       "      <td>steve madden</td>\n",
       "      <td>999.0</td>\n",
       "      <td>37.0</td>\n",
       "      <td>nwt</td>\n",
       "      <td>0.037037</td>\n",
       "    </tr>\n",
       "    <tr>\n",
       "      <th>46269</th>\n",
       "      <td>606b3a366b53b4fd918caaea</td>\n",
       "      <td>steve madden</td>\n",
       "      <td>999.0</td>\n",
       "      <td>37.0</td>\n",
       "      <td>nwt</td>\n",
       "      <td>0.037037</td>\n",
       "    </tr>\n",
       "    <tr>\n",
       "      <th>46405</th>\n",
       "      <td>606b3a366b53b4fd918cab72</td>\n",
       "      <td>steve madden</td>\n",
       "      <td>5555.0</td>\n",
       "      <td>35.0</td>\n",
       "      <td>nwt</td>\n",
       "      <td>0.006301</td>\n",
       "    </tr>\n",
       "    <tr>\n",
       "      <th>46465</th>\n",
       "      <td>606b3a366b53b4fd918cabae</td>\n",
       "      <td>steve madden</td>\n",
       "      <td>999.0</td>\n",
       "      <td>13.0</td>\n",
       "      <td>not_nwt</td>\n",
       "      <td>0.013013</td>\n",
       "    </tr>\n",
       "    <tr>\n",
       "      <th>46811</th>\n",
       "      <td>606b3a366b53b4fd918cad08</td>\n",
       "      <td>steve madden</td>\n",
       "      <td>999.0</td>\n",
       "      <td>50.0</td>\n",
       "      <td>nwt</td>\n",
       "      <td>0.050050</td>\n",
       "    </tr>\n",
       "    <tr>\n",
       "      <th>46880</th>\n",
       "      <td>606b3a366b53b4fd918cad4d</td>\n",
       "      <td>steve madden</td>\n",
       "      <td>999.0</td>\n",
       "      <td>16.0</td>\n",
       "      <td>nwt</td>\n",
       "      <td>0.016016</td>\n",
       "    </tr>\n",
       "    <tr>\n",
       "      <th>46897</th>\n",
       "      <td>606b3a366b53b4fd918cad5e</td>\n",
       "      <td>steve madden</td>\n",
       "      <td>999.0</td>\n",
       "      <td>40.0</td>\n",
       "      <td>nwt</td>\n",
       "      <td>0.040040</td>\n",
       "    </tr>\n",
       "    <tr>\n",
       "      <th>47046</th>\n",
       "      <td>606b3a366b53b4fd918cadf3</td>\n",
       "      <td>steve madden</td>\n",
       "      <td>999.0</td>\n",
       "      <td>13.0</td>\n",
       "      <td>not_nwt</td>\n",
       "      <td>0.013013</td>\n",
       "    </tr>\n",
       "    <tr>\n",
       "      <th>47708</th>\n",
       "      <td>606b3a366b53b4fd918cb089</td>\n",
       "      <td>steve madden</td>\n",
       "      <td>777.0</td>\n",
       "      <td>15.0</td>\n",
       "      <td>not_nwt</td>\n",
       "      <td>0.019305</td>\n",
       "    </tr>\n",
       "    <tr>\n",
       "      <th>47725</th>\n",
       "      <td>606b3a366b53b4fd918cb09a</td>\n",
       "      <td>steve madden</td>\n",
       "      <td>777.0</td>\n",
       "      <td>13.0</td>\n",
       "      <td>not_nwt</td>\n",
       "      <td>0.016731</td>\n",
       "    </tr>\n",
       "    <tr>\n",
       "      <th>47769</th>\n",
       "      <td>606b3a366b53b4fd918cb0c6</td>\n",
       "      <td>steve madden</td>\n",
       "      <td>999.0</td>\n",
       "      <td>15.0</td>\n",
       "      <td>not_nwt</td>\n",
       "      <td>0.015015</td>\n",
       "    </tr>\n",
       "    <tr>\n",
       "      <th>47896</th>\n",
       "      <td>606b3a366b53b4fd918cb145</td>\n",
       "      <td>steve madden</td>\n",
       "      <td>777.0</td>\n",
       "      <td>25.0</td>\n",
       "      <td>nwt</td>\n",
       "      <td>0.032175</td>\n",
       "    </tr>\n",
       "    <tr>\n",
       "      <th>48134</th>\n",
       "      <td>606b3a366b53b4fd918cb233</td>\n",
       "      <td>steve madden</td>\n",
       "      <td>108.0</td>\n",
       "      <td>10.0</td>\n",
       "      <td>nwt</td>\n",
       "      <td>0.092593</td>\n",
       "    </tr>\n",
       "    <tr>\n",
       "      <th>48353</th>\n",
       "      <td>606b3a366b53b4fd918cb30e</td>\n",
       "      <td>steve madden</td>\n",
       "      <td>777.0</td>\n",
       "      <td>20.0</td>\n",
       "      <td>not_nwt</td>\n",
       "      <td>0.025740</td>\n",
       "    </tr>\n",
       "    <tr>\n",
       "      <th>48534</th>\n",
       "      <td>606b3a366b53b4fd918cb3c3</td>\n",
       "      <td>steve madden</td>\n",
       "      <td>777.0</td>\n",
       "      <td>32.0</td>\n",
       "      <td>nwt</td>\n",
       "      <td>0.041184</td>\n",
       "    </tr>\n",
       "    <tr>\n",
       "      <th>48607</th>\n",
       "      <td>606b3a366b53b4fd918cb40c</td>\n",
       "      <td>steve madden</td>\n",
       "      <td>999.0</td>\n",
       "      <td>25.0</td>\n",
       "      <td>nwt</td>\n",
       "      <td>0.025025</td>\n",
       "    </tr>\n",
       "    <tr>\n",
       "      <th>48856</th>\n",
       "      <td>606b3a366b53b4fd918cb505</td>\n",
       "      <td>steve madden</td>\n",
       "      <td>180.0</td>\n",
       "      <td>15.0</td>\n",
       "      <td>nwt</td>\n",
       "      <td>0.083333</td>\n",
       "    </tr>\n",
       "    <tr>\n",
       "      <th>48905</th>\n",
       "      <td>606b3a366b53b4fd918cb536</td>\n",
       "      <td>steve madden</td>\n",
       "      <td>999.0</td>\n",
       "      <td>15.0</td>\n",
       "      <td>not_nwt</td>\n",
       "      <td>0.015015</td>\n",
       "    </tr>\n",
       "    <tr>\n",
       "      <th>49155</th>\n",
       "      <td>606b3a366b53b4fd918cb630</td>\n",
       "      <td>steve madden</td>\n",
       "      <td>999.0</td>\n",
       "      <td>50.0</td>\n",
       "      <td>nwt</td>\n",
       "      <td>0.050050</td>\n",
       "    </tr>\n",
       "    <tr>\n",
       "      <th>49258</th>\n",
       "      <td>606b3a366b53b4fd918cb697</td>\n",
       "      <td>steve madden</td>\n",
       "      <td>999.0</td>\n",
       "      <td>35.0</td>\n",
       "      <td>nwt</td>\n",
       "      <td>0.035035</td>\n",
       "    </tr>\n",
       "    <tr>\n",
       "      <th>49269</th>\n",
       "      <td>606b3a366b53b4fd918cb6a2</td>\n",
       "      <td>steve madden</td>\n",
       "      <td>999.0</td>\n",
       "      <td>28.0</td>\n",
       "      <td>nwt</td>\n",
       "      <td>0.028028</td>\n",
       "    </tr>\n",
       "    <tr>\n",
       "      <th>49401</th>\n",
       "      <td>606b3a366b53b4fd918cb726</td>\n",
       "      <td>steve madden</td>\n",
       "      <td>777.0</td>\n",
       "      <td>50.0</td>\n",
       "      <td>nwt</td>\n",
       "      <td>0.064350</td>\n",
       "    </tr>\n",
       "    <tr>\n",
       "      <th>50694</th>\n",
       "      <td>606b3a366b53b4fd918cbc33</td>\n",
       "      <td>steve madden</td>\n",
       "      <td>999.0</td>\n",
       "      <td>12.0</td>\n",
       "      <td>nwt</td>\n",
       "      <td>0.012012</td>\n",
       "    </tr>\n",
       "  </tbody>\n",
       "</table>\n",
       "<p>527 rows × 6 columns</p>\n",
       "</div>"
      ],
      "text/plain": [
       "                            _id           brand  og_price  sell_price  \\\n",
       "1      606b3a366b53b4fd918bf62e  betsey johnson    1234.0        20.0   \n",
       "27     606b3a366b53b4fd918bf648  betsey johnson     999.0        25.0   \n",
       "85     606b3a366b53b4fd918bf682  betsey johnson    1234.0        13.0   \n",
       "164    606b3a366b53b4fd918bf6d1  betsey johnson     999.0        10.0   \n",
       "582    606b3a366b53b4fd918bf873  betsey johnson     777.0        18.0   \n",
       "599    606b3a366b53b4fd918bf884  betsey johnson     135.0        12.0   \n",
       "888    606b3a366b53b4fd918bf9a5  betsey johnson     777.0        21.0   \n",
       "903    606b3a366b53b4fd918bf9b4  betsey johnson     250.0        15.0   \n",
       "1065   606b3a366b53b4fd918bfa56  betsey johnson    2222.0        20.0   \n",
       "1194   606b3a366b53b4fd918bfad7  betsey johnson     999.0        19.0   \n",
       "1268   606b3a366b53b4fd918bfb21  betsey johnson     999.0        35.0   \n",
       "1322   606b3a366b53b4fd918bfb57  betsey johnson     999.0        14.0   \n",
       "1441   606b3a366b53b4fd918bfbce  betsey johnson     777.0        15.0   \n",
       "1525   606b3a366b53b4fd918bfc22  betsey johnson     999.0        45.0   \n",
       "1575   606b3a366b53b4fd918bfc54  betsey johnson     777.0        15.0   \n",
       "2002   606b3a366b53b4fd918bfdff  betsey johnson     999.0        12.0   \n",
       "2176   606b3a366b53b4fd918bfead  betsey johnson     150.0        13.0   \n",
       "2265   606b3a366b53b4fd918bff06  betsey johnson     999.0        50.0   \n",
       "2712   606b3a366b53b4fd918c00c5  betsey johnson     999.0        10.0   \n",
       "2798   606b3a366b53b4fd918c011b  betsey johnson     777.0        20.0   \n",
       "2847   606b3a366b53b4fd918c014c  betsey johnson     999.0        20.0   \n",
       "2884   606b3a366b53b4fd918c0171  betsey johnson     110.0        10.0   \n",
       "2942   606b3a366b53b4fd918c01ab  betsey johnson     999.0        10.0   \n",
       "3075   606b3a366b53b4fd918c0230  betsey johnson     999.0        51.0   \n",
       "3146   606b3a366b53b4fd918c0277  betsey johnson     777.0        15.0   \n",
       "3476   606b3a366b53b4fd918c03c1  betsey johnson     999.0        15.0   \n",
       "3509   606b3a366b53b4fd918c03e2  betsey johnson     444.0        27.0   \n",
       "3627   606b3a366b53b4fd918c0458  betsey johnson    1234.0        10.0   \n",
       "3760   606b3a366b53b4fd918c04dd  betsey johnson    1234.0        10.0   \n",
       "3786   606b3a366b53b4fd918c04f7  betsey johnson     349.0        30.0   \n",
       "...                         ...             ...       ...         ...   \n",
       "45712  606b3a366b53b4fd918ca8bd           coach     198.0        12.0   \n",
       "45745  606b3a366b53b4fd918ca8de           coach     299.0        17.0   \n",
       "45907  606b3a366b53b4fd918ca980           coach     777.0        15.0   \n",
       "45970  606b3a366b53b4fd918ca9bf           coach     199.0        18.0   \n",
       "46014  606b3a366b53b4fd918ca9eb           coach     120.0        10.0   \n",
       "46074  606b3a366b53b4fd918caa27           coach     165.0        11.0   \n",
       "46148  606b3a366b53b4fd918caa71           coach     125.0        10.0   \n",
       "46245  606b3a366b53b4fd918caad2    steve madden     999.0        37.0   \n",
       "46269  606b3a366b53b4fd918caaea    steve madden     999.0        37.0   \n",
       "46405  606b3a366b53b4fd918cab72    steve madden    5555.0        35.0   \n",
       "46465  606b3a366b53b4fd918cabae    steve madden     999.0        13.0   \n",
       "46811  606b3a366b53b4fd918cad08    steve madden     999.0        50.0   \n",
       "46880  606b3a366b53b4fd918cad4d    steve madden     999.0        16.0   \n",
       "46897  606b3a366b53b4fd918cad5e    steve madden     999.0        40.0   \n",
       "47046  606b3a366b53b4fd918cadf3    steve madden     999.0        13.0   \n",
       "47708  606b3a366b53b4fd918cb089    steve madden     777.0        15.0   \n",
       "47725  606b3a366b53b4fd918cb09a    steve madden     777.0        13.0   \n",
       "47769  606b3a366b53b4fd918cb0c6    steve madden     999.0        15.0   \n",
       "47896  606b3a366b53b4fd918cb145    steve madden     777.0        25.0   \n",
       "48134  606b3a366b53b4fd918cb233    steve madden     108.0        10.0   \n",
       "48353  606b3a366b53b4fd918cb30e    steve madden     777.0        20.0   \n",
       "48534  606b3a366b53b4fd918cb3c3    steve madden     777.0        32.0   \n",
       "48607  606b3a366b53b4fd918cb40c    steve madden     999.0        25.0   \n",
       "48856  606b3a366b53b4fd918cb505    steve madden     180.0        15.0   \n",
       "48905  606b3a366b53b4fd918cb536    steve madden     999.0        15.0   \n",
       "49155  606b3a366b53b4fd918cb630    steve madden     999.0        50.0   \n",
       "49258  606b3a366b53b4fd918cb697    steve madden     999.0        35.0   \n",
       "49269  606b3a366b53b4fd918cb6a2    steve madden     999.0        28.0   \n",
       "49401  606b3a366b53b4fd918cb726    steve madden     777.0        50.0   \n",
       "50694  606b3a366b53b4fd918cbc33    steve madden     999.0        12.0   \n",
       "\n",
       "      condition  sell_percent  \n",
       "1           nwt      0.016207  \n",
       "27      not_nwt      0.025025  \n",
       "85          nwt      0.010535  \n",
       "164     not_nwt      0.010010  \n",
       "582     not_nwt      0.023166  \n",
       "599     not_nwt      0.088889  \n",
       "888         nwt      0.027027  \n",
       "903     not_nwt      0.060000  \n",
       "1065        nwt      0.009001  \n",
       "1194        nwt      0.019019  \n",
       "1268    not_nwt      0.035035  \n",
       "1322        nwt      0.014014  \n",
       "1441        nwt      0.019305  \n",
       "1525        nwt      0.045045  \n",
       "1575        nwt      0.019305  \n",
       "2002        nwt      0.012012  \n",
       "2176    not_nwt      0.086667  \n",
       "2265        nwt      0.050050  \n",
       "2712        nwt      0.010010  \n",
       "2798        nwt      0.025740  \n",
       "2847        nwt      0.020020  \n",
       "2884    not_nwt      0.090909  \n",
       "2942        nwt      0.010010  \n",
       "3075        nwt      0.051051  \n",
       "3146    not_nwt      0.019305  \n",
       "3476    not_nwt      0.015015  \n",
       "3509        nwt      0.060811  \n",
       "3627    not_nwt      0.008104  \n",
       "3760        nwt      0.008104  \n",
       "3786        nwt      0.085960  \n",
       "...         ...           ...  \n",
       "45712   not_nwt      0.060606  \n",
       "45745   not_nwt      0.056856  \n",
       "45907   not_nwt      0.019305  \n",
       "45970   not_nwt      0.090452  \n",
       "46014   not_nwt      0.083333  \n",
       "46074   not_nwt      0.066667  \n",
       "46148   not_nwt      0.080000  \n",
       "46245       nwt      0.037037  \n",
       "46269       nwt      0.037037  \n",
       "46405       nwt      0.006301  \n",
       "46465   not_nwt      0.013013  \n",
       "46811       nwt      0.050050  \n",
       "46880       nwt      0.016016  \n",
       "46897       nwt      0.040040  \n",
       "47046   not_nwt      0.013013  \n",
       "47708   not_nwt      0.019305  \n",
       "47725   not_nwt      0.016731  \n",
       "47769   not_nwt      0.015015  \n",
       "47896       nwt      0.032175  \n",
       "48134       nwt      0.092593  \n",
       "48353   not_nwt      0.025740  \n",
       "48534       nwt      0.041184  \n",
       "48607       nwt      0.025025  \n",
       "48856       nwt      0.083333  \n",
       "48905   not_nwt      0.015015  \n",
       "49155       nwt      0.050050  \n",
       "49258       nwt      0.035035  \n",
       "49269       nwt      0.028028  \n",
       "49401       nwt      0.064350  \n",
       "50694       nwt      0.012012  \n",
       "\n",
       "[527 rows x 6 columns]"
      ]
     },
     "execution_count": 8,
     "metadata": {},
     "output_type": "execute_result"
    }
   ],
   "source": [
    "cond_df['sell_percent'] = cond_df['sell_price'] / cond_df['og_price']\n",
    "low_sell_df = cond_df[['_id', 'brand', 'og_price', 'sell_price', 'condition', 'sell_percent']].copy()\n",
    "low_sell_df = low_sell_df[low_sell_df.sell_percent < .10]\n",
    "low_sell_df"
   ]
  },
  {
   "cell_type": "code",
   "execution_count": 9,
   "metadata": {},
   "outputs": [
    {
     "data": {
      "text/plain": [
       "count    527.000000\n",
       "mean       0.060627\n",
       "std        0.026748\n",
       "min        0.006301\n",
       "25%        0.039254\n",
       "50%        0.066667\n",
       "75%        0.083333\n",
       "max        0.099099\n",
       "Name: sell_percent, dtype: float64"
      ]
     },
     "execution_count": 9,
     "metadata": {},
     "output_type": "execute_result"
    }
   ],
   "source": [
    "low_sell_df['sell_percent'].describe()"
   ]
  },
  {
   "cell_type": "code",
   "execution_count": 10,
   "metadata": {},
   "outputs": [
    {
     "data": {
      "text/plain": [
       "count    19311.000000\n",
       "mean         0.380467\n",
       "std          0.222262\n",
       "min          0.006301\n",
       "25%          0.238095\n",
       "50%          0.346939\n",
       "75%          0.500000\n",
       "max         15.000000\n",
       "Name: sell_percent, dtype: float64"
      ]
     },
     "execution_count": 10,
     "metadata": {},
     "output_type": "execute_result"
    }
   ],
   "source": [
    "cond_df['sell_percent'].describe()"
   ]
  },
  {
   "cell_type": "code",
   "execution_count": 11,
   "metadata": {},
   "outputs": [
    {
     "data": {
      "image/png": "[encoded data removed]",
      "text/plain": [
       "<Figure size 1080x360 with 1 Axes>"
      ]
     },
     "metadata": {
      "needs_background": "light"
     },
     "output_type": "display_data"
    }
   ],
   "source": [
    "#Boxplot for selling percent\n",
    "fig, ax = plt.subplots(figsize=(15, 5))\n",
    "sns.boxplot(x='sell_percent', data=cond_df, showfliers=False, color='#D7B9C4')\n",
    "plt.title(\"BoxPlot of Sell Percent \", fontsize=15)\n",
    "plt.xlabel(' Percent ', fontsize=15)\n",
    "plt.show()\n",
    "#Most items sell for about 25% to about 55%, which is very common pricing for second-hand items\n",
    "#Will filter the extremely low-priced items from the model, buyers can always give a discount or lower price if acitivity is low."
   ]
  },
  {
   "cell_type": "code",
   "execution_count": 12,
   "metadata": {},
   "outputs": [
    {
     "data": {
      "text/plain": [
       "18699"
      ]
     },
     "execution_count": 12,
     "metadata": {},
     "output_type": "execute_result"
    }
   ],
   "source": [
    "#Filter sell_percent items that are less thant 10%\n",
    "cond_df = cond_df[cond_df.sell_percent > 0.1]\n",
    "len(cond_df)"
   ]
  },
  {
   "cell_type": "code",
   "execution_count": 13,
   "metadata": {},
   "outputs": [
    {
     "data": {
      "text/plain": [
       "Text(0,0.5,'Selling Price')"
      ]
     },
     "execution_count": 13,
     "metadata": {},
     "output_type": "execute_result"
    },
    {
     "data": {
      "image/png": "[encoded data removed]",
      "text/plain": [
       "<Figure size 432x288 with 1 Axes>"
      ]
     },
     "metadata": {
      "needs_background": "light"
     },
     "output_type": "display_data"
    }
   ],
   "source": [
    "#Check correlation with scatterplot again\n",
    "plt.scatter(y=cond_df['sell_price'], x=cond_df['og_price'], color='#D7B9C4')\n",
    "plt.xlabel('Original Price')\n",
    "plt.ylabel('Selling Price')"
   ]
  },
  {
   "cell_type": "code",
   "execution_count": 14,
   "metadata": {},
   "outputs": [
    {
     "name": "stdout",
     "output_type": "stream",
     "text": [
      "count    18699.000000\n",
      "mean       267.074603\n",
      "std        476.333497\n",
      "min         10.000000\n",
      "25%         58.000000\n",
      "50%         88.000000\n",
      "75%        179.000000\n",
      "max       6999.000000\n",
      "Name: og_price, dtype: float64\n",
      "\n",
      "\n",
      "count    18699.000000\n",
      "mean       105.262634\n",
      "std        208.259921\n",
      "min         10.000000\n",
      "25%         19.000000\n",
      "50%         30.000000\n",
      "75%         65.000000\n",
      "max       3200.000000\n",
      "Name: sell_price, dtype: float64\n"
     ]
    }
   ],
   "source": [
    "#Grab descriptive stats for orginal and selling price\n",
    "print(cond_df['og_price'].describe())\n",
    "print('\\n')\n",
    "print(cond_df['sell_price'].describe())"
   ]
  },
  {
   "cell_type": "code",
   "execution_count": 15,
   "metadata": {},
   "outputs": [
    {
     "data": {
      "text/plain": [
       "array([[<matplotlib.axes._subplots.AxesSubplot object at 0x00000160941ED5C0>]],\n",
       "      dtype=object)"
      ]
     },
     "execution_count": 15,
     "metadata": {},
     "output_type": "execute_result"
    },
    {
     "data": {
      "image/png": "[encoded data removed]",
      "text/plain": [
       "<Figure size 432x288 with 1 Axes>"
      ]
     },
     "metadata": {
      "needs_background": "light"
     },
     "output_type": "display_data"
    },
    {
     "data": {
      "image/png": "[encoded data removed]",
      "text/plain": [
       "<Figure size 432x288 with 1 Axes>"
      ]
     },
     "metadata": {
      "needs_background": "light"
     },
     "output_type": "display_data"
    }
   ],
   "source": [
    "#Hist plosts for original and sell price\n",
    "cond_df.hist(column='og_price', color='#D7B9C4', grid=False, bins=100)\n",
    "cond_df.hist(column='sell_price', color='#D7B9C4', grid=False)\n",
    "#Right-skewed"
   ]
  },
  {
   "cell_type": "code",
   "execution_count": 16,
   "metadata": {},
   "outputs": [
    {
     "data": {
      "text/plain": [
       "array([[<matplotlib.axes._subplots.AxesSubplot object at 0x000001608C495CF8>,\n",
       "        <matplotlib.axes._subplots.AxesSubplot object at 0x00000160994E99B0>,\n",
       "        <matplotlib.axes._subplots.AxesSubplot object at 0x000001609951D080>],\n",
       "       [<matplotlib.axes._subplots.AxesSubplot object at 0x00000160995436D8>,\n",
       "        <matplotlib.axes._subplots.AxesSubplot object at 0x000001609956ED68>,\n",
       "        <matplotlib.axes._subplots.AxesSubplot object at 0x000001609956EDA0>],\n",
       "       [<matplotlib.axes._subplots.AxesSubplot object at 0x00000160995C5AC8>,\n",
       "        <matplotlib.axes._subplots.AxesSubplot object at 0x00000160995F8198>,\n",
       "        <matplotlib.axes._subplots.AxesSubplot object at 0x0000016099621828>],\n",
       "       [<matplotlib.axes._subplots.AxesSubplot object at 0x0000016099648EB8>,\n",
       "        <matplotlib.axes._subplots.AxesSubplot object at 0x0000016099679588>,\n",
       "        <matplotlib.axes._subplots.AxesSubplot object at 0x00000160996A2C18>]],\n",
       "      dtype=object)"
      ]
     },
     "execution_count": 16,
     "metadata": {},
     "output_type": "execute_result"
    },
    {
     "data": {
      "image/png": "[encoded data removed]",
      "text/plain": [
       "<Figure size 1440x1440 with 12 Axes>"
      ]
     },
     "metadata": {
      "needs_background": "light"
     },
     "output_type": "display_data"
    }
   ],
   "source": [
    "# Create separate hist plots for each brand to show the sell price distribution\n",
    "cond_df.hist(column='sell_price', by = 'brand', color='#D7B9C4', figsize=(20,20))"
   ]
  },
  {
   "cell_type": "code",
   "execution_count": 17,
   "metadata": {},
   "outputs": [
    {
     "data": {
      "image/png": "[encoded data removed]",
      "text/plain": [
       "<Figure size 1080x360 with 1 Axes>"
      ]
     },
     "metadata": {
      "needs_background": "light"
     },
     "output_type": "display_data"
    }
   ],
   "source": [
    "#Boxplot for selling price by brand\n",
    "fig, ax = plt.subplots(figsize=(15, 5))\n",
    "sns.boxplot(x='sell_price', data=cond_df, showfliers=True, color='#D7B9C4')\n",
    "plt.title(\"BoxPlot of Sell Prices \", fontsize=15)\n",
    "plt.xlabel(' Price ', fontsize=15)\n",
    "plt.show()\n",
    "#There are many outliers"
   ]
  },
  {
   "cell_type": "code",
   "execution_count": 18,
   "metadata": {},
   "outputs": [
    {
     "data": {
      "image/png": "[encoded data removed]",
      "text/plain": [
       "<Figure size 1440x1080 with 1 Axes>"
      ]
     },
     "metadata": {
      "needs_background": "light"
     },
     "output_type": "display_data"
    }
   ],
   "source": [
    "#Boxplot for selling price by brand\n",
    "fig, ax = plt.subplots(figsize=(20, 15))\n",
    "sns.boxplot(x='sell_price', y='brand', data=cond_df, showfliers=True, color='#D7B9C4')\n",
    "plt.title(\"BoxPlot of Sell Prices by Brand \", fontsize=15)\n",
    "plt.xlabel(' Price ', fontsize=15)\n",
    "plt.ylabel(' Brand ', fontsize=15)\n",
    "plt.show()\n",
    "#There are many outliers, will check again and omit them."
   ]
  },
  {
   "cell_type": "code",
   "execution_count": 19,
   "metadata": {},
   "outputs": [
    {
     "data": {
      "image/png": "[encoded data removed]",
      "text/plain": [
       "<Figure size 1080x360 with 1 Axes>"
      ]
     },
     "metadata": {
      "needs_background": "light"
     },
     "output_type": "display_data"
    }
   ],
   "source": [
    "#Boxplot for selling price by brand No fliers\n",
    "fig, ax = plt.subplots(figsize=(15, 5))\n",
    "sns.boxplot(x='sell_price', data=cond_df, showfliers=False, color='#D7B9C4')\n",
    "plt.title(\"BoxPlot of Sell Prices \", fontsize=15)\n",
    "plt.xlabel(' Price ', fontsize=15)\n",
    "plt.show()\n",
    "# 75% of the data has a sell price between $0-65"
   ]
  },
  {
   "cell_type": "code",
   "execution_count": 20,
   "metadata": {},
   "outputs": [
    {
     "data": {
      "image/png": "[encoded data removed]",
      "text/plain": [
       "<Figure size 1080x720 with 1 Axes>"
      ]
     },
     "metadata": {
      "needs_background": "light"
     },
     "output_type": "display_data"
    }
   ],
   "source": [
    "#Boxplot for sell price and condition\n",
    "fig, ax = plt.subplots(figsize=(15, 10))\n",
    "sns.boxplot(y='sell_price', x='condition', data=cond_df, showfliers=False, color='#D7B9C4')\n",
    "plt.title(\"BoxPlot of Sell Prices & Condition \", fontsize=15)\n",
    "plt.xlabel(' Price ', fontsize=15)\n",
    "plt.show()\n",
    "#There is a relationship between condition and sell price"
   ]
  },
  {
   "cell_type": "code",
   "execution_count": 21,
   "metadata": {},
   "outputs": [
    {
     "data": {
      "image/png": "[encoded data removed]",
      "text/plain": [
       "<Figure size 1080x360 with 1 Axes>"
      ]
     },
     "metadata": {
      "needs_background": "light"
     },
     "output_type": "display_data"
    }
   ],
   "source": [
    "#Boxplot for original price by brand\n",
    "fig, ax = plt.subplots(figsize=(15, 5))\n",
    "sns.boxplot(x='og_price', data=cond_df, showfliers=True, color='#D7B9C4')\n",
    "plt.title(\"BoxPlot of Original Prices \", fontsize=15)\n",
    "plt.xlabel(' Price ', fontsize=15)\n",
    "plt.show()\n",
    "#There are many outliers"
   ]
  },
  {
   "cell_type": "code",
   "execution_count": 22,
   "metadata": {},
   "outputs": [
    {
     "data": {
      "text/plain": [
       "<matplotlib.axes._subplots.AxesSubplot at 0x1609a179630>"
      ]
     },
     "execution_count": 22,
     "metadata": {},
     "output_type": "execute_result"
    },
    {
     "data": {
      "image/png": "[encoded data removed]",
      "text/plain": [
       "<Figure size 432x288 with 2 Axes>"
      ]
     },
     "metadata": {
      "needs_background": "light"
     },
     "output_type": "display_data"
    }
   ],
   "source": [
    "#Correlation matrix\n",
    "# check for any correlations between variables\n",
    "corr = cond_df.corr()\n",
    "sns.heatmap(corr)\n",
    "#No high correlation between independent variables"
   ]
  },
  {
   "cell_type": "code",
   "execution_count": null,
   "metadata": {},
   "outputs": [],
   "source": [
    "#\n",
    "# Data Transformation\n",
    "#"
   ]
  },
  {
   "cell_type": "code",
   "execution_count": 23,
   "metadata": {},
   "outputs": [],
   "source": [
    "#Create dataframe for regression analysis: id, brand, og_price, sell_price, and condition\n",
    "reg_df = cond_df[['_id', 'brand', 'og_price', 'sell_price', 'condition']].copy()"
   ]
  },
  {
   "cell_type": "code",
   "execution_count": 24,
   "metadata": {},
   "outputs": [
    {
     "data": {
      "text/html": [
       "<div>\n",
       "<style scoped>\n",
       "    .dataframe tbody tr th:only-of-type {\n",
       "        vertical-align: middle;\n",
       "    }\n",
       "\n",
       "    .dataframe tbody tr th {\n",
       "        vertical-align: top;\n",
       "    }\n",
       "\n",
       "    .dataframe thead th {\n",
       "        text-align: right;\n",
       "    }\n",
       "</style>\n",
       "<table border=\"1\" class=\"dataframe\">\n",
       "  <thead>\n",
       "    <tr style=\"text-align: right;\">\n",
       "      <th></th>\n",
       "      <th>_id</th>\n",
       "      <th>brand</th>\n",
       "      <th>og_price</th>\n",
       "      <th>sell_price</th>\n",
       "      <th>condition</th>\n",
       "    </tr>\n",
       "  </thead>\n",
       "  <tbody>\n",
       "    <tr>\n",
       "      <th>50839</th>\n",
       "      <td>606b3a366b53b4fd918cbcc4</td>\n",
       "      <td>steve madden</td>\n",
       "      <td>3.769906</td>\n",
       "      <td>3.208537</td>\n",
       "      <td>nwt</td>\n",
       "    </tr>\n",
       "    <tr>\n",
       "      <th>50840</th>\n",
       "      <td>606b3a366b53b4fd918cbcc5</td>\n",
       "      <td>steve madden</td>\n",
       "      <td>4.044000</td>\n",
       "      <td>3.624386</td>\n",
       "      <td>nwt</td>\n",
       "    </tr>\n",
       "    <tr>\n",
       "      <th>50841</th>\n",
       "      <td>606b3a366b53b4fd918cbcc6</td>\n",
       "      <td>steve madden</td>\n",
       "      <td>4.044000</td>\n",
       "      <td>3.208537</td>\n",
       "      <td>nwt</td>\n",
       "    </tr>\n",
       "    <tr>\n",
       "      <th>50843</th>\n",
       "      <td>606b3a366b53b4fd918cbcc8</td>\n",
       "      <td>steve madden</td>\n",
       "      <td>4.044000</td>\n",
       "      <td>3.208537</td>\n",
       "      <td>nwt</td>\n",
       "    </tr>\n",
       "    <tr>\n",
       "      <th>50844</th>\n",
       "      <td>606b3a366b53b4fd918cbcc9</td>\n",
       "      <td>steve madden</td>\n",
       "      <td>4.044000</td>\n",
       "      <td>3.389655</td>\n",
       "      <td>nwt</td>\n",
       "    </tr>\n",
       "  </tbody>\n",
       "</table>\n",
       "</div>"
      ],
      "text/plain": [
       "                            _id         brand  og_price  sell_price condition\n",
       "50839  606b3a366b53b4fd918cbcc4  steve madden  3.769906    3.208537       nwt\n",
       "50840  606b3a366b53b4fd918cbcc5  steve madden  4.044000    3.624386       nwt\n",
       "50841  606b3a366b53b4fd918cbcc6  steve madden  4.044000    3.208537       nwt\n",
       "50843  606b3a366b53b4fd918cbcc8  steve madden  4.044000    3.208537       nwt\n",
       "50844  606b3a366b53b4fd918cbcc9  steve madden  4.044000    3.389655       nwt"
      ]
     },
     "execution_count": 24,
     "metadata": {},
     "output_type": "execute_result"
    }
   ],
   "source": [
    "#Boxcox transformation for original and sell price because they skew to the right\n",
    "from scipy.special import boxcox, inv_boxcox\n",
    "\n",
    "#Lambda value\n",
    "ld = -0.002\n",
    "\n",
    "reg_df['og_price']  = boxcox(reg_df['og_price'],ld)\n",
    "reg_df['sell_price'] = boxcox(reg_df['sell_price'],ld)\n",
    "reg_df.tail(5)"
   ]
  },
  {
   "cell_type": "code",
   "execution_count": 25,
   "metadata": {},
   "outputs": [
    {
     "data": {
      "text/plain": [
       "array([[<matplotlib.axes._subplots.AxesSubplot object at 0x0000016094256F28>]],\n",
       "      dtype=object)"
      ]
     },
     "execution_count": 25,
     "metadata": {},
     "output_type": "execute_result"
    },
    {
     "data": {
      "image/png": "[encoded data removed]",
      "text/plain": [
       "<Figure size 432x288 with 1 Axes>"
      ]
     },
     "metadata": {
      "needs_background": "light"
     },
     "output_type": "display_data"
    },
    {
     "data": {
      "image/png": "[encoded data removed]",
      "text/plain": [
       "<Figure size 432x288 with 1 Axes>"
      ]
     },
     "metadata": {
      "needs_background": "light"
     },
     "output_type": "display_data"
    }
   ],
   "source": [
    "#Verify shape after transformation\n",
    "#Hist plosts for original and sell price\n",
    "reg_df.hist(column='og_price', color='#D7B9C4', grid=False)\n",
    "reg_df.hist(column='sell_price', color='#D7B9C4', grid=False)\n",
    "#Right-skewed"
   ]
  },
  {
   "cell_type": "code",
   "execution_count": 26,
   "metadata": {},
   "outputs": [
    {
     "data": {
      "text/html": [
       "<div>\n",
       "<style scoped>\n",
       "    .dataframe tbody tr th:only-of-type {\n",
       "        vertical-align: middle;\n",
       "    }\n",
       "\n",
       "    .dataframe tbody tr th {\n",
       "        vertical-align: top;\n",
       "    }\n",
       "\n",
       "    .dataframe thead th {\n",
       "        text-align: right;\n",
       "    }\n",
       "</style>\n",
       "<table border=\"1\" class=\"dataframe\">\n",
       "  <thead>\n",
       "    <tr style=\"text-align: right;\">\n",
       "      <th></th>\n",
       "      <th>_id</th>\n",
       "      <th>brand</th>\n",
       "      <th>og_price</th>\n",
       "      <th>sell_price</th>\n",
       "      <th>condition</th>\n",
       "    </tr>\n",
       "  </thead>\n",
       "  <tbody>\n",
       "    <tr>\n",
       "      <th>50839</th>\n",
       "      <td>606b3a366b53b4fd918cbcc4</td>\n",
       "      <td>11</td>\n",
       "      <td>3.769906</td>\n",
       "      <td>3.208537</td>\n",
       "      <td>1</td>\n",
       "    </tr>\n",
       "    <tr>\n",
       "      <th>50840</th>\n",
       "      <td>606b3a366b53b4fd918cbcc5</td>\n",
       "      <td>11</td>\n",
       "      <td>4.044000</td>\n",
       "      <td>3.624386</td>\n",
       "      <td>1</td>\n",
       "    </tr>\n",
       "    <tr>\n",
       "      <th>50841</th>\n",
       "      <td>606b3a366b53b4fd918cbcc6</td>\n",
       "      <td>11</td>\n",
       "      <td>4.044000</td>\n",
       "      <td>3.208537</td>\n",
       "      <td>1</td>\n",
       "    </tr>\n",
       "    <tr>\n",
       "      <th>50843</th>\n",
       "      <td>606b3a366b53b4fd918cbcc8</td>\n",
       "      <td>11</td>\n",
       "      <td>4.044000</td>\n",
       "      <td>3.208537</td>\n",
       "      <td>1</td>\n",
       "    </tr>\n",
       "    <tr>\n",
       "      <th>50844</th>\n",
       "      <td>606b3a366b53b4fd918cbcc9</td>\n",
       "      <td>11</td>\n",
       "      <td>4.044000</td>\n",
       "      <td>3.389655</td>\n",
       "      <td>1</td>\n",
       "    </tr>\n",
       "  </tbody>\n",
       "</table>\n",
       "</div>"
      ],
      "text/plain": [
       "                            _id  brand  og_price  sell_price  condition\n",
       "50839  606b3a366b53b4fd918cbcc4     11  3.769906    3.208537          1\n",
       "50840  606b3a366b53b4fd918cbcc5     11  4.044000    3.624386          1\n",
       "50841  606b3a366b53b4fd918cbcc6     11  4.044000    3.208537          1\n",
       "50843  606b3a366b53b4fd918cbcc8     11  4.044000    3.208537          1\n",
       "50844  606b3a366b53b4fd918cbcc9     11  4.044000    3.389655          1"
      ]
     },
     "execution_count": 26,
     "metadata": {},
     "output_type": "execute_result"
    }
   ],
   "source": [
    "#Encode categorical features (brand and condition) for regression\n",
    "labelencoder = LabelEncoder()\n",
    "\n",
    "#Encode brands\n",
    "reg_df['brand'] = labelencoder.fit_transform(reg_df['brand'])\n",
    "\n",
    "#Encode condition\n",
    "reg_df['condition'] = labelencoder.fit_transform(reg_df['condition'])\n",
    "\n",
    "reg_df.tail(5)"
   ]
  },
  {
   "cell_type": "code",
   "execution_count": 27,
   "metadata": {},
   "outputs": [
    {
     "data": {
      "text/html": [
       "<table class=\"simpletable\">\n",
       "<caption>OLS Regression Results</caption>\n",
       "<tr>\n",
       "  <th>Dep. Variable:</th>       <td>sell_price</td>    <th>  R-squared:         </th> <td>   0.844</td> \n",
       "</tr>\n",
       "<tr>\n",
       "  <th>Model:</th>                   <td>OLS</td>       <th>  Adj. R-squared:    </th> <td>   0.844</td> \n",
       "</tr>\n",
       "<tr>\n",
       "  <th>Method:</th>             <td>Least Squares</td>  <th>  F-statistic:       </th> <td>3.370e+04</td>\n",
       "</tr>\n",
       "<tr>\n",
       "  <th>Date:</th>             <td>Sun, 11 Apr 2021</td> <th>  Prob (F-statistic):</th>  <td>  0.00</td>  \n",
       "</tr>\n",
       "<tr>\n",
       "  <th>Time:</th>                 <td>09:39:51</td>     <th>  Log-Likelihood:    </th> <td> -11932.</td> \n",
       "</tr>\n",
       "<tr>\n",
       "  <th>No. Observations:</th>      <td> 18699</td>      <th>  AIC:               </th> <td>2.387e+04</td>\n",
       "</tr>\n",
       "<tr>\n",
       "  <th>Df Residuals:</th>          <td> 18695</td>      <th>  BIC:               </th> <td>2.390e+04</td>\n",
       "</tr>\n",
       "<tr>\n",
       "  <th>Df Model:</th>              <td>     3</td>      <th>                     </th>     <td> </td>    \n",
       "</tr>\n",
       "<tr>\n",
       "  <th>Covariance Type:</th>      <td>nonrobust</td>    <th>                     </th>     <td> </td>    \n",
       "</tr>\n",
       "</table>\n",
       "<table class=\"simpletable\">\n",
       "<tr>\n",
       "      <td></td>         <th>coef</th>     <th>std err</th>      <th>t</th>      <th>P>|t|</th>  <th>[0.025</th>    <th>0.975]</th>  \n",
       "</tr>\n",
       "<tr>\n",
       "  <th>const</th>     <td>   -1.3707</td> <td>    0.018</td> <td>  -75.416</td> <td> 0.000</td> <td>   -1.406</td> <td>   -1.335</td>\n",
       "</tr>\n",
       "<tr>\n",
       "  <th>brand</th>     <td>    0.0080</td> <td>    0.001</td> <td>    8.270</td> <td> 0.000</td> <td>    0.006</td> <td>    0.010</td>\n",
       "</tr>\n",
       "<tr>\n",
       "  <th>og_price</th>  <td>    1.0200</td> <td>    0.003</td> <td>  312.742</td> <td> 0.000</td> <td>    1.014</td> <td>    1.026</td>\n",
       "</tr>\n",
       "<tr>\n",
       "  <th>condition</th> <td>    0.3235</td> <td>    0.007</td> <td>   45.192</td> <td> 0.000</td> <td>    0.309</td> <td>    0.338</td>\n",
       "</tr>\n",
       "</table>\n",
       "<table class=\"simpletable\">\n",
       "<tr>\n",
       "  <th>Omnibus:</th>       <td> 8.879</td> <th>  Durbin-Watson:     </th> <td>   1.785</td>\n",
       "</tr>\n",
       "<tr>\n",
       "  <th>Prob(Omnibus):</th> <td> 0.012</td> <th>  Jarque-Bera (JB):  </th> <td>   8.939</td>\n",
       "</tr>\n",
       "<tr>\n",
       "  <th>Skew:</th>          <td>-0.045</td> <th>  Prob(JB):          </th> <td>  0.0115</td>\n",
       "</tr>\n",
       "<tr>\n",
       "  <th>Kurtosis:</th>      <td> 3.058</td> <th>  Cond. No.          </th> <td>    41.3</td>\n",
       "</tr>\n",
       "</table><br/><br/>Warnings:<br/>[1] Standard Errors assume that the covariance matrix of the errors is correctly specified."
      ],
      "text/plain": [
       "<class 'statsmodels.iolib.summary.Summary'>\n",
       "\"\"\"\n",
       "                            OLS Regression Results                            \n",
       "==============================================================================\n",
       "Dep. Variable:             sell_price   R-squared:                       0.844\n",
       "Model:                            OLS   Adj. R-squared:                  0.844\n",
       "Method:                 Least Squares   F-statistic:                 3.370e+04\n",
       "Date:                Sun, 11 Apr 2021   Prob (F-statistic):               0.00\n",
       "Time:                        09:39:51   Log-Likelihood:                -11932.\n",
       "No. Observations:               18699   AIC:                         2.387e+04\n",
       "Df Residuals:                   18695   BIC:                         2.390e+04\n",
       "Df Model:                           3                                         \n",
       "Covariance Type:            nonrobust                                         \n",
       "==============================================================================\n",
       "                 coef    std err          t      P>|t|      [0.025      0.975]\n",
       "------------------------------------------------------------------------------\n",
       "const         -1.3707      0.018    -75.416      0.000      -1.406      -1.335\n",
       "brand          0.0080      0.001      8.270      0.000       0.006       0.010\n",
       "og_price       1.0200      0.003    312.742      0.000       1.014       1.026\n",
       "condition      0.3235      0.007     45.192      0.000       0.309       0.338\n",
       "==============================================================================\n",
       "Omnibus:                        8.879   Durbin-Watson:                   1.785\n",
       "Prob(Omnibus):                  0.012   Jarque-Bera (JB):                8.939\n",
       "Skew:                          -0.045   Prob(JB):                       0.0115\n",
       "Kurtosis:                       3.058   Cond. No.                         41.3\n",
       "==============================================================================\n",
       "\n",
       "Warnings:\n",
       "[1] Standard Errors assume that the covariance matrix of the errors is correctly specified.\n",
       "\"\"\""
      ]
     },
     "execution_count": 27,
     "metadata": {},
     "output_type": "execute_result"
    }
   ],
   "source": [
    "#Separate features and target into y and x variables\n",
    "y = reg_df['sell_price']\n",
    "x = reg_df[['brand', 'og_price', 'condition']]\n",
    "X = sm.add_constant(x)\n",
    "ols_mod = sm.OLS(y,X).fit()\n",
    "ols_mod.summary()\n",
    "#Kurtosis and Skew values look much better after the Box-Cox transformation"
   ]
  },
  {
   "cell_type": "code",
   "execution_count": null,
   "metadata": {},
   "outputs": [],
   "source": [
    "#\n",
    "# Predict\n",
    "#"
   ]
  },
  {
   "cell_type": "code",
   "execution_count": 28,
   "metadata": {},
   "outputs": [],
   "source": [
    "import numpy as np"
   ]
  },
  {
   "cell_type": "code",
   "execution_count": 63,
   "metadata": {},
   "outputs": [],
   "source": [
    "def rec_price(brand, og, cond, ld):\n",
    "    box_val = boxcox(og, ld)\n",
    "    #Add 1 for constant to include 1 intercept value\n",
    "    const = 1.0\n",
    "    x_new = [const, brand, box_val, cond]\n",
    "    pred = ols_mod.predict(x_new)\n",
    "    pred = inv_boxcox(pred, ld)\n",
    "    return pred"
   ]
  },
  {
   "cell_type": "code",
   "execution_count": 64,
   "metadata": {},
   "outputs": [
    {
     "name": "stdout",
     "output_type": "stream",
     "text": [
      "[204.50084358]\n"
     ]
    }
   ],
   "source": [
    "#Recommend price for brand 5, original price of $500, with condition of 1\n",
    "rec1 = rec_price(5, 500, 1, ld)\n",
    "print(rec1)"
   ]
  },
  {
   "cell_type": "code",
   "execution_count": 65,
   "metadata": {},
   "outputs": [
    {
     "name": "stdout",
     "output_type": "stream",
     "text": [
      "[20.7228614]\n"
     ]
    }
   ],
   "source": [
    "#Recommend price for brand 1, original price of $75, with condition of 0\n",
    "rec2 = rec_price(1, 75, 0, ld)\n",
    "print(rec2)"
   ]
  }
 ],
 "metadata": {
  "kernelspec": {
   "display_name": "Python 3",
   "language": "python",
   "name": "python3"
  },
  "language_info": {
   "codemirror_mode": {
    "name": "ipython",
    "version": 3
   },
   "file_extension": ".py",
   "mimetype": "text/x-python",
   "name": "python",
   "nbconvert_exporter": "python",
   "pygments_lexer": "ipython3",
   "version": "3.7.0"
  }
 },
 "nbformat": 4,
 "nbformat_minor": 2
}
